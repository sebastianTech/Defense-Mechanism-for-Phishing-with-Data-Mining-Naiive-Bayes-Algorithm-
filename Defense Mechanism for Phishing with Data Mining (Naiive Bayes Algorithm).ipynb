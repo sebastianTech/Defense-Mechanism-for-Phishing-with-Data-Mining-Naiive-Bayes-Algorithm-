{
 "cells": [
  {
   "cell_type": "code",
   "execution_count": 3,
   "metadata": {},
   "outputs": [
    {
     "data": {
      "text/plain": [
       "'C:\\\\Users\\\\Giantstride\\\\Downloads'"
      ]
     },
     "execution_count": 3,
     "metadata": {},
     "output_type": "execute_result"
    }
   ],
   "source": [
    "import os\n",
    "os.getcwd()"
   ]
  },
  {
   "cell_type": "code",
   "execution_count": 5,
   "metadata": {},
   "outputs": [],
   "source": [
    "from sklearn.metrics import accuracy_score\n",
    "from sklearn.metrics import confusion_matrix\n",
    "from sklearn.metrics import precision_score\n",
    "from sklearn.metrics import classification_report\n",
    "\n",
    "import numpy as np\n",
    "from sklearn.naive_bayes import GaussianNB\n",
    "import time"
   ]
  },
  {
   "cell_type": "code",
   "execution_count": 7,
   "metadata": {},
   "outputs": [],
   "source": [
    " training_data = np.genfromtxt(r'Dataset.csv', delimiter=',', dtype=np.int32) "
   ]
  },
  {
   "cell_type": "code",
   "execution_count": 8,
   "metadata": {},
   "outputs": [],
   "source": [
    "inputs = training_data[:,:-1]         # Get the inputs - All rows and all columns except the last one \n",
    "outputs = training_data[:,-1]         # Get the labels"
   ]
  },
  {
   "cell_type": "code",
   "execution_count": 10,
   "metadata": {},
   "outputs": [],
   "source": [
    "# Divide the data set into training and testing. Total=2456\n",
    "#  Training dataset (1500 rows)\n",
    "#  Training dataset (956 rows) \t\n",
    "training_inputs = inputs[:1500]       #  Select first 1500 rows (0-1499) excluding last column\n",
    "training_outputs = outputs[:1500]     #  Select first 1500 rows (0-1499) with only last column\n",
    "testing_inputs = inputs[1500:]\t\t  #  Select remaining rows (1500-2455) excluding last column\n",
    "testing_outputs = outputs[1500:]      #  Select remaining rows (1500-2455) with only last column"
   ]
  },
  {
   "cell_type": "code",
   "execution_count": 13,
   "metadata": {},
   "outputs": [],
   "source": [
    "def load_data():\n",
    "    \n",
    "\n",
    "    #Get the data\n",
    "    training_data = np.genfromtxt(r'Dataset.csv', delimiter=',', dtype=np.int32)\n",
    "\n",
    "    inputs = training_data[:,:-1]         # Get the inputs - All rows and all columns except the last one \n",
    "\n",
    "    outputs = training_data[:,-1]         # Get the labels\n",
    "\n",
    "    # Divide the data set into training and testing. Total=2456\n",
    "    #  Training dataset (1500 rows)\n",
    "    #  Training dataset (956 rows) \t\n",
    "    training_inputs = inputs[:1500]       #  Select first 1500 rows (0-1499) excluding last column\n",
    "    training_outputs = outputs[:1500]     #  Select first 1500 rows (0-1499) with only last column\n",
    "    testing_inputs = inputs[1500:]\t\t  #  Select remaining rows (1500-2455) excluding last column\n",
    "    testing_outputs = outputs[1500:]      #  Select remaining rows (1500-2455) with only last column\n",
    "\n",
    "    # Return the four arrays\n",
    "    return training_inputs, training_outputs, testing_inputs, testing_outputs"
   ]
  },
  {
   "cell_type": "code",
   "execution_count": 14,
   "metadata": {},
   "outputs": [
    {
     "name": "stdout",
     "output_type": "stream",
     "text": [
      "The accuracy of your Naive Bayesian classifier on testing data is: 78.14%\n",
      "confusion matrix=\n",
      " [[451  83]\n",
      " [126 296]]\n",
      "The error rate of the Naive Bayesian classifier on testing data is: 21.86%\n",
      "The classification report is:\n",
      "               precision    recall  f1-score   support\n",
      "\n",
      "          -1       0.78      0.84      0.81       534\n",
      "           1       0.78      0.70      0.74       422\n",
      "\n",
      "    accuracy                           0.78       956\n",
      "   macro avg       0.78      0.77      0.78       956\n",
      "weighted avg       0.78      0.78      0.78       956\n",
      "\n",
      "Time = 0.31356167793273926 seconds \n"
     ]
    }
   ],
   "source": [
    "if __name__ == '__main__':        # Entry point of the program\n",
    "    start_time = time.time()\n",
    "    train_inputs, train_outputs, test_inputs, test_outputs = load_data()      # get  the data \n",
    "\t\n",
    "    classifier= GaussianNB()\n",
    "  \n",
    "    classifier.fit(train_inputs, train_outputs)       # Train the classifier model\n",
    "    \n",
    "    predictions = classifier.predict(test_inputs)      # make the predictions on testing data\n",
    "\t\n",
    "    confusionmatrix=confusion_matrix(test_outputs,predictions)       # Create a confusion matrix \n",
    "   \n",
    "    accuracy = 100.0 * accuracy_score(test_outputs, predictions)     # Calculate the accuracy\n",
    "    print (\"The accuracy of your Naive Bayesian classifier on testing data is: \" + str(round(accuracy,2))+ \"%\")\n",
    "    print(\"confusion matrix=\\n\",confusionmatrix)\n",
    "\t\n",
    "    error=(1-accuracy/100.0)*100.0\n",
    "    print(\"The error rate of the Naive Bayesian classifier on testing data is: \" + str(round(error,2)) + \"%\")\n",
    "\t\n",
    "    report=classification_report(test_outputs,predictions)\n",
    "    print(\"The classification report is:\\n \"+ str(report))\n",
    "    print(\"Time = %s seconds \" % (time.time() - start_time))\n"
   ]
  }
 ],
 "metadata": {
  "kernelspec": {
   "display_name": "Python 3",
   "language": "python",
   "name": "python3"
  },
  "language_info": {
   "codemirror_mode": {
    "name": "ipython",
    "version": 3
   },
   "file_extension": ".py",
   "mimetype": "text/x-python",
   "name": "python",
   "nbconvert_exporter": "python",
   "pygments_lexer": "ipython3",
   "version": "3.7.3"
  }
 },
 "nbformat": 4,
 "nbformat_minor": 2
}
